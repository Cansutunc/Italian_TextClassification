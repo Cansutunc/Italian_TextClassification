{
 "cells": [
  {
   "cell_type": "code",
   "execution_count": null,
   "metadata": {},
   "outputs": [],
   "source": [
    "import pandas as pd\n",
    "import string\n",
    "import re\n",
    "\n",
    "def clean_text(text):\n",
    "    if isinstance(text, str):\n",
    "        text = text.lower()  # Convert to lowercase\n",
    "        text = re.sub(r'\\s+', ' ', text.strip())  # Remove extra spaces\n",
    "        text = text.translate(str.maketrans('', '', string.punctuation))  # Remove punctuation\n",
    "        \n",
    "        # Preserve legal/contract-related terms (example: avoid modifying \"art. 15\" or \"d.lgs 81/08\")\n",
    "        text = re.sub(r'\\b(art\\.? \\d+|d\\.lgs \\d+/\\d+)\\b', lambda m: m.group(0).upper(), text)\n",
    "        \n",
    "        return text\n",
    "    return text\n",
    "\n",
    "def process_dataframe(df, col1='Titolo', col2='descrizione', new_col='Cleaned_Column'):\n",
    "    \"\"\"\n",
    "    Combines two specified columns, cleans the text, and stores it in a new column.\n",
    "    \n",
    "    Parameters:\n",
    "    df (pd.DataFrame): The input dataframe.\n",
    "    col1 (str): Name of the first column to combine.\n",
    "    col2 (str): Name of the second column to combine.\n",
    "    new_col (str): Name of the new column to store the cleaned text.\n",
    "    \n",
    "    Returns:\n",
    "    pd.DataFrame: Dataframe with the new cleaned column.\n",
    "    \"\"\"\n",
    "    df[new_col] = df[col1].astype(str) + ' ' + df[col2].astype(str)  # Combine columns\n",
    "    df[new_col] = df[new_col].apply(clean_text)  # Apply cleaning function\n",
    "    return df\n",
    "\n",
    "def load_and_process_data(file_path, output_path=\"output.csv\"):\n",
    "    \"\"\"\n",
    "    Loads data from a CSV file, processes it by combining and cleaning 'Titolo' and 'descrizione',\n",
    "    and saves the result to a new CSV file.\n",
    "    \n",
    "    Parameters:\n",
    "    file_path (str): Path to the input CSV file.\n",
    "    output_path (str): Path to save the processed CSV file (default: 'output.csv').\n",
    "    \n",
    "    Returns:\n",
    "    pd.DataFrame: Processed dataframe.\n",
    "    \"\"\"\n",
    "    df = pd.read_csv(file_path)  # Load CSV file\n",
    "    df = process_dataframe(df, \"Titolo\", \"descrizione\", \"Cleaned_Column\")  # Process dataframe\n",
    "    df.to_csv(output_path, index=False)  # Save output CSV\n",
    "    return df\n",
    "\n",
    "# Example usage:\n",
    "df = load_and_process_data(\"D:\\FinetuningBERT-HFT\\Partially sampled 2023.csv\")\n",
    "print(df.head())\n"
   ]
  }
 ],
 "metadata": {
  "kernelspec": {
   "display_name": "Python 3",
   "language": "python",
   "name": "python3"
  },
  "language_info": {
   "codemirror_mode": {
    "name": "ipython",
    "version": 3
   },
   "file_extension": ".py",
   "mimetype": "text/x-python",
   "name": "python",
   "nbconvert_exporter": "python",
   "pygments_lexer": "ipython3",
   "version": "3.10.11"
  }
 },
 "nbformat": 4,
 "nbformat_minor": 2
}
